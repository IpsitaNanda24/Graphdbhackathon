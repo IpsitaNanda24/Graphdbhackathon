{
 "cells": [
  {
   "cell_type": "code",
   "execution_count": null,
   "metadata": {},
   "outputs": [],
   "source": [
    "!pip install pandas\n",
    "!pip install matplotlib\n",
    "!pip install arango_datasets\n",
    "!pip install networkx\n",
    "!pip install nx-arangodb\n",
    "!pip install  inspect\n",
    "!pip install  scipy\n",
    "!pip install langgraph\n",
    "!pip install langchain_openai\n",
    "!pip install langchain_community"
   ]
  },
  {
   "cell_type": "code",
   "execution_count": 118,
   "metadata": {},
   "outputs": [
    {
     "data": {
      "text/plain": [
       "True"
      ]
     },
     "execution_count": 118,
     "metadata": {},
     "output_type": "execute_result"
    }
   ],
   "source": [
    "import networkx as nx\n",
    "import pandas as pd\n",
    "import matplotlib.pyplot as plt\n",
    "import networkx as nx\n",
    "import nx_arangodb as nxadb\n",
    "\n",
    "from arango import ArangoClient\n",
    "\n",
    "import pandas as pd\n",
    "import numpy as np\n",
    "import networkx as nx\n",
    "import matplotlib.pyplot as plt\n",
    "from random import randint\n",
    "import re , random\n",
    "\n",
    "from langgraph.prebuilt import create_react_agent\n",
    "from langgraph.checkpoint.memory import MemorySaver\n",
    "from langchain_openai import ChatOpenAI\n",
    "from langchain_community.graphs import ArangoGraph\n",
    "from langchain_community.chains.graph_qa.arangodb import ArangoGraphQAChain\n",
    "from langchain_core.tools import tool\n",
    "\n",
    "from dotenv import load_dotenv\n",
    "\n",
    "load_dotenv() #loads .env file  to get open api key\n"
   ]
  },
  {
   "cell_type": "code",
   "execution_count": 88,
   "metadata": {},
   "outputs": [
    {
     "name": "stdout",
     "output_type": "stream",
     "text": [
      "--2025-03-07 16:08:50--  https://mitre.box.com/shared/static/aw9po06ypfb9hrau4jamtvtz0e5ziucz.zip\n",
      "Resolving mitre.box.com (mitre.box.com)... 74.112.186.157\n",
      "Connecting to mitre.box.com (mitre.box.com)|74.112.186.157|:443... connected.\n",
      "HTTP request sent, awaiting response... 301 Moved Permanently\n",
      "Location: /public/static/aw9po06ypfb9hrau4jamtvtz0e5ziucz.zip [following]\n",
      "--2025-03-07 16:08:50--  https://mitre.box.com/public/static/aw9po06ypfb9hrau4jamtvtz0e5ziucz.zip\n",
      "Reusing existing connection to mitre.box.com:443.\n",
      "HTTP request sent, awaiting response... 301 Moved Permanently\n",
      "Location: https://mitre.app.box.com/public/static/aw9po06ypfb9hrau4jamtvtz0e5ziucz.zip [following]\n",
      "--2025-03-07 16:08:50--  https://mitre.app.box.com/public/static/aw9po06ypfb9hrau4jamtvtz0e5ziucz.zip\n",
      "Resolving mitre.app.box.com (mitre.app.box.com)... 74.112.186.157\n",
      "Connecting to mitre.app.box.com (mitre.app.box.com)|74.112.186.157|:443... connected.\n",
      "HTTP request sent, awaiting response... 302 Found\n",
      "Location: https://public.boxcloud.com/d/1/b1!_iHz2NL-j8Rx5B5zI62nekivCwUd66kESKT_NddiEgoodXDqoDtoaNg7iV54TdTL2UZGIgD-l2SLKkOWGzDyGEGdaOevW_BrkmIvWnFnx7upwvx5iFaInwrThNO-cL-I-9YkbhLENus9Zg-LPWmNEpUBXi3JBI4KC6a8Fp6_gi5DSQWfagnrjaxlhh8GwMvuXbk7rkG5SSC1-fFxiyFFEv-ocBL9QeYacZhK_EHtS2UI35oKAHAO3S6FJmzBWQZjT-8ZWrKbVUf1JYTrBfhrK_zSeuSkgGKhWljDPW9la-V6GCP1tAe5f00KcjfiRqHEuJ6ak8d5lx05MsElB9xm2hfywN8KMHy6aCvnuGEXWx4dpUnXOPlhlMIDUwcg-JoiHL_NR1fwoC3bD7ZHap_hDxl--dYQXIkwZllxgqWyUd9o8-_DIHoST-hjI-zEUc04yMf8VwStbWpLE48v8zF5MG5rm8VbGsVyJfn5kT03unBXOmQRXNWeelX6YdxfffK7CJfoCB9eaA8xJ4b--2o7Jvj3Fai3PKgzAiUPLX1Lx6kGq_xG2Pk05dt9iAXmRy_s_N7Ma1ey1hiTD--x-s9ln3o5Hcec7fyUI5kVNciul__yfTe5mBCSX0Q2IajMc7FOHt8N4ddenWMhbHmA7T17fZJzCyW1HKAnazPeNNh3vr9R6ni-ZoxZ6VIVBE5ek38t7hNPqKNKQd4KiUA7PLyPiUT7jV0ezztZC_noVPmaNsKChGeyndeelliVayvSUnJJM1VMpDNoKbas2YHdgOnSa6cavosO7vfjlUq012BQ-w-vgt74B7oQPhTV-t1D7yQppZijG-7mHx0V8_Ob0uGkxtQfWn4a1_fh8smfgPZ1cDx8l3DtJqBLqgbmSFVyfTm9qaCz6AO_FEI__dLsIYsge96vnsiqkKIb85U_dwxrdLCTFuclILJU3kBLsxfoksRDjQ0_V8KEzS21KcU-dSeQjGt_OvWKZHRHruxfLjGSLJv7QKFvspUuNPkOjkliSrHCfIEDJYKE4DAgnxUmXuAbnkRl0z3OXeGsjPHCU5XIuMTJ8l9iRfqwf8CbaELqphzZY3IN8DX69TdMFl8tncMMjjzNr-GDC7as9o0xuBDCyb0yRmBhCVEp2lS65AvzMzFCE2nC1Fx-mmjnuOacuCSZ0TpiI1mQN-ahdizjvmL8A4eOInihHW-neHHpP9yLA59eiBjoIQ9m9MQV1_Z8Bv0AFuntXme9Zx5h8f7L3XpLqH6M7XL6tyg8gQ9xv0i3AtdIOvqpDuWuDfPVxYehw-tC8PrKJrZhOFgNEMl2CpLiWDIi8CfsJZq27oUOg2WPhOvnOrQrhtTeMoUc3GpVnqjIdwIHknvfIuE6UgoAc-OgvIjSbnIUVJiq2kCyRDvItGrOoJqlfB-6fXulmJ4GAOrac-kApl45-vKJu0dj90DftX9cmyWnhocT6LVlovefrGvmvtT9We1kRGQP41Sy6-VRE_IvKElKr_6x09Qg4-_Yy2OkX-mKz3GRPdMn3BxqzWsIDedA5wxHkqLplg../download [following]\n",
      "--2025-03-07 16:08:51--  https://public.boxcloud.com/d/1/b1!_iHz2NL-j8Rx5B5zI62nekivCwUd66kESKT_NddiEgoodXDqoDtoaNg7iV54TdTL2UZGIgD-l2SLKkOWGzDyGEGdaOevW_BrkmIvWnFnx7upwvx5iFaInwrThNO-cL-I-9YkbhLENus9Zg-LPWmNEpUBXi3JBI4KC6a8Fp6_gi5DSQWfagnrjaxlhh8GwMvuXbk7rkG5SSC1-fFxiyFFEv-ocBL9QeYacZhK_EHtS2UI35oKAHAO3S6FJmzBWQZjT-8ZWrKbVUf1JYTrBfhrK_zSeuSkgGKhWljDPW9la-V6GCP1tAe5f00KcjfiRqHEuJ6ak8d5lx05MsElB9xm2hfywN8KMHy6aCvnuGEXWx4dpUnXOPlhlMIDUwcg-JoiHL_NR1fwoC3bD7ZHap_hDxl--dYQXIkwZllxgqWyUd9o8-_DIHoST-hjI-zEUc04yMf8VwStbWpLE48v8zF5MG5rm8VbGsVyJfn5kT03unBXOmQRXNWeelX6YdxfffK7CJfoCB9eaA8xJ4b--2o7Jvj3Fai3PKgzAiUPLX1Lx6kGq_xG2Pk05dt9iAXmRy_s_N7Ma1ey1hiTD--x-s9ln3o5Hcec7fyUI5kVNciul__yfTe5mBCSX0Q2IajMc7FOHt8N4ddenWMhbHmA7T17fZJzCyW1HKAnazPeNNh3vr9R6ni-ZoxZ6VIVBE5ek38t7hNPqKNKQd4KiUA7PLyPiUT7jV0ezztZC_noVPmaNsKChGeyndeelliVayvSUnJJM1VMpDNoKbas2YHdgOnSa6cavosO7vfjlUq012BQ-w-vgt74B7oQPhTV-t1D7yQppZijG-7mHx0V8_Ob0uGkxtQfWn4a1_fh8smfgPZ1cDx8l3DtJqBLqgbmSFVyfTm9qaCz6AO_FEI__dLsIYsge96vnsiqkKIb85U_dwxrdLCTFuclILJU3kBLsxfoksRDjQ0_V8KEzS21KcU-dSeQjGt_OvWKZHRHruxfLjGSLJv7QKFvspUuNPkOjkliSrHCfIEDJYKE4DAgnxUmXuAbnkRl0z3OXeGsjPHCU5XIuMTJ8l9iRfqwf8CbaELqphzZY3IN8DX69TdMFl8tncMMjjzNr-GDC7as9o0xuBDCyb0yRmBhCVEp2lS65AvzMzFCE2nC1Fx-mmjnuOacuCSZ0TpiI1mQN-ahdizjvmL8A4eOInihHW-neHHpP9yLA59eiBjoIQ9m9MQV1_Z8Bv0AFuntXme9Zx5h8f7L3XpLqH6M7XL6tyg8gQ9xv0i3AtdIOvqpDuWuDfPVxYehw-tC8PrKJrZhOFgNEMl2CpLiWDIi8CfsJZq27oUOg2WPhOvnOrQrhtTeMoUc3GpVnqjIdwIHknvfIuE6UgoAc-OgvIjSbnIUVJiq2kCyRDvItGrOoJqlfB-6fXulmJ4GAOrac-kApl45-vKJu0dj90DftX9cmyWnhocT6LVlovefrGvmvtT9We1kRGQP41Sy6-VRE_IvKElKr_6x09Qg4-_Yy2OkX-mKz3GRPdMn3BxqzWsIDedA5wxHkqLplg../download\n",
      "Resolving public.boxcloud.com (public.boxcloud.com)... 74.112.186.165\n",
      "Connecting to public.boxcloud.com (public.boxcloud.com)|74.112.186.165|:443... connected.\n",
      "HTTP request sent, awaiting response... 200 OK\n",
      "Length: 58771261 (56M) [application/zip]\n",
      "Saving to: ‘aw9po06ypfb9hrau4jamtvtz0e5ziucz.zip.2’\n",
      "\n",
      "aw9po06ypfb9hrau4ja 100%[===================>]  56.05M  27.2MB/s    in 2.1s    \n",
      "\n",
      "2025-03-07 16:08:54 (27.2 MB/s) - ‘aw9po06ypfb9hrau4jamtvtz0e5ziucz.zip.2’ saved [58771261/58771261]\n",
      "\n",
      "Archive:  aw9po06ypfb9hrau4jamtvtz0e5ziucz.zip\n",
      "   creating: csv/\n",
      "  inflating: csv/medications.csv     \n",
      "  inflating: csv/providers.csv       \n",
      "  inflating: csv/payer_transitions.csv  \n",
      "  inflating: csv/imaging_studies.csv  \n",
      "  inflating: csv/supplies.csv        \n",
      "  inflating: csv/payers.csv          \n",
      "  inflating: csv/claims.csv          \n",
      "  inflating: csv/allergies.csv       \n",
      "  inflating: csv/procedures.csv      \n",
      "  inflating: csv/organizations.csv   \n",
      "  inflating: csv/conditions.csv      \n",
      "  inflating: csv/careplans.csv       \n",
      "  inflating: csv/encounters.csv      \n",
      "  inflating: csv/devices.csv         \n",
      "  inflating: csv/immunizations.csv   \n",
      "  inflating: csv/claims_transactions.csv  \n",
      "  inflating: csv/patients.csv        \n",
      "  inflating: csv/observations.csv    \n",
      "allergies.csv           encounters.csv          patients.csv\n",
      "careplans.csv           imaging_studies.csv     payer_transitions.csv\n",
      "claims.csv              immunizations.csv       payers.csv\n",
      "claims_transactions.csv medications.csv         procedures.csv\n",
      "conditions.csv          observations.csv        providers.csv\n",
      "devices.csv             organizations.csv       supplies.csv\n"
     ]
    }
   ],
   "source": [
    "!wget https://mitre.box.com/shared/static/aw9po06ypfb9hrau4jamtvtz0e5ziucz.zip \n",
    "!unzip aw9po06ypfb9hrau4jamtvtz0e5ziucz.zip\n",
    "!ls csv"
   ]
  },
  {
   "cell_type": "code",
   "execution_count": 142,
   "metadata": {},
   "outputs": [
    {
     "name": "stdout",
     "output_type": "stream",
     "text": [
      "(1163, 26)\n",
      "(38094, 6)\n",
      "(38094, 8)\n",
      "(56430, 13)\n"
     ]
    }
   ],
   "source": [
    "df1 = pd.read_csv('./csv/patients.csv')\n",
    "df1['patient_name'] = df1['FIRST'] + ' ' + df1['LAST']\n",
    "print(df1.shape)\n",
    "df2 = pd.read_csv('./csv/conditions.csv')\n",
    "print(df2.shape)\n",
    "df2 = df2.merge(df1[['Id', 'patient_name']], right_on='Id', left_on=\"PATIENT\", how='inner')\n",
    "print(df2.shape)\n",
    "df3 = pd.read_csv('./csv/medications.csv')\n",
    "print(df3.shape)"
   ]
  },
  {
   "cell_type": "code",
   "execution_count": 143,
   "metadata": {},
   "outputs": [
    {
     "data": {
      "text/html": [
       "<div>\n",
       "<style scoped>\n",
       "    .dataframe tbody tr th:only-of-type {\n",
       "        vertical-align: middle;\n",
       "    }\n",
       "\n",
       "    .dataframe tbody tr th {\n",
       "        vertical-align: top;\n",
       "    }\n",
       "\n",
       "    .dataframe thead th {\n",
       "        text-align: right;\n",
       "    }\n",
       "</style>\n",
       "<table border=\"1\" class=\"dataframe\">\n",
       "  <thead>\n",
       "    <tr style=\"text-align: right;\">\n",
       "      <th></th>\n",
       "      <th>Id</th>\n",
       "      <th>BIRTHDATE</th>\n",
       "      <th>DEATHDATE</th>\n",
       "      <th>SSN</th>\n",
       "      <th>DRIVERS</th>\n",
       "      <th>PASSPORT</th>\n",
       "      <th>PREFIX</th>\n",
       "      <th>FIRST</th>\n",
       "      <th>LAST</th>\n",
       "      <th>SUFFIX</th>\n",
       "      <th>...</th>\n",
       "      <th>ADDRESS</th>\n",
       "      <th>CITY</th>\n",
       "      <th>STATE</th>\n",
       "      <th>COUNTY</th>\n",
       "      <th>ZIP</th>\n",
       "      <th>LAT</th>\n",
       "      <th>LON</th>\n",
       "      <th>HEALTHCARE_EXPENSES</th>\n",
       "      <th>HEALTHCARE_COVERAGE</th>\n",
       "      <th>patient_name</th>\n",
       "    </tr>\n",
       "  </thead>\n",
       "  <tbody>\n",
       "    <tr>\n",
       "      <th>0</th>\n",
       "      <td>b9c610cd-28a6-4636-ccb6-c7a0d2a4cb85</td>\n",
       "      <td>2019-02-17</td>\n",
       "      <td>NaN</td>\n",
       "      <td>999-65-3251</td>\n",
       "      <td>NaN</td>\n",
       "      <td>NaN</td>\n",
       "      <td>NaN</td>\n",
       "      <td>Damon455</td>\n",
       "      <td>Langosh790</td>\n",
       "      <td>NaN</td>\n",
       "      <td>...</td>\n",
       "      <td>620 Lynch Tunnel Apt 0</td>\n",
       "      <td>Springfield</td>\n",
       "      <td>Massachusetts</td>\n",
       "      <td>Hampden County</td>\n",
       "      <td>1104.0</td>\n",
       "      <td>42.080389</td>\n",
       "      <td>-72.480431</td>\n",
       "      <td>9039.1645</td>\n",
       "      <td>7964.1255</td>\n",
       "      <td>Damon455 Langosh790</td>\n",
       "    </tr>\n",
       "    <tr>\n",
       "      <th>1</th>\n",
       "      <td>c1f1fcaa-82fd-d5b7-3544-c8f9708b06a8</td>\n",
       "      <td>2005-07-04</td>\n",
       "      <td>NaN</td>\n",
       "      <td>999-49-3323</td>\n",
       "      <td>S99941126</td>\n",
       "      <td>NaN</td>\n",
       "      <td>NaN</td>\n",
       "      <td>Thi53</td>\n",
       "      <td>Wunsch504</td>\n",
       "      <td>NaN</td>\n",
       "      <td>...</td>\n",
       "      <td>972 Tillman Branch Suite 48</td>\n",
       "      <td>Bellingham</td>\n",
       "      <td>Massachusetts</td>\n",
       "      <td>Norfolk County</td>\n",
       "      <td>NaN</td>\n",
       "      <td>42.035213</td>\n",
       "      <td>-71.482519</td>\n",
       "      <td>402723.4150</td>\n",
       "      <td>14064.1350</td>\n",
       "      <td>Thi53 Wunsch504</td>\n",
       "    </tr>\n",
       "  </tbody>\n",
       "</table>\n",
       "<p>2 rows × 26 columns</p>\n",
       "</div>"
      ],
      "text/plain": [
       "                                     Id   BIRTHDATE DEATHDATE          SSN  \\\n",
       "0  b9c610cd-28a6-4636-ccb6-c7a0d2a4cb85  2019-02-17       NaN  999-65-3251   \n",
       "1  c1f1fcaa-82fd-d5b7-3544-c8f9708b06a8  2005-07-04       NaN  999-49-3323   \n",
       "\n",
       "     DRIVERS PASSPORT PREFIX     FIRST        LAST SUFFIX  ...  \\\n",
       "0        NaN      NaN    NaN  Damon455  Langosh790    NaN  ...   \n",
       "1  S99941126      NaN    NaN     Thi53   Wunsch504    NaN  ...   \n",
       "\n",
       "                       ADDRESS         CITY          STATE          COUNTY  \\\n",
       "0       620 Lynch Tunnel Apt 0  Springfield  Massachusetts  Hampden County   \n",
       "1  972 Tillman Branch Suite 48   Bellingham  Massachusetts  Norfolk County   \n",
       "\n",
       "      ZIP        LAT        LON HEALTHCARE_EXPENSES HEALTHCARE_COVERAGE  \\\n",
       "0  1104.0  42.080389 -72.480431           9039.1645           7964.1255   \n",
       "1     NaN  42.035213 -71.482519         402723.4150          14064.1350   \n",
       "\n",
       "          patient_name  \n",
       "0  Damon455 Langosh790  \n",
       "1      Thi53 Wunsch504  \n",
       "\n",
       "[2 rows x 26 columns]"
      ]
     },
     "execution_count": 143,
     "metadata": {},
     "output_type": "execute_result"
    }
   ],
   "source": [
    "df1.head(2) #patients"
   ]
  },
  {
   "cell_type": "code",
   "execution_count": 144,
   "metadata": {},
   "outputs": [
    {
     "name": "stdout",
     "output_type": "stream",
     "text": [
      "Number of nodes in the graph: 0\n",
      "Number of nodes in the graph: 4\n",
      "Number of nodes in the graph: 1167\n"
     ]
    }
   ],
   "source": [
    "\n",
    "\n",
    "G = nx.Graph()\n",
    "print(f\"Number of nodes in the graph: {G.number_of_nodes()}\")\n",
    "\n",
    "# Create Gender and Marital Status nodes\n",
    "G.add_node('male', node_type='Gender', name = 'Male')\n",
    "G.add_node('female', node_type='Gender', name = 'Female')\n",
    "G.add_node('married', node_type='MaritalStatus', name = 'Married')\n",
    "G.add_node('single', node_type='MaritalStatus', name = 'Single')    \n",
    "\n",
    "print(f\"Number of nodes in the graph: {G.number_of_nodes()}\")\n",
    "# Process each patient in the dataframe\n",
    "for _, row in df1.iterrows():\n",
    "    # Create patient node with ID and Name\n",
    "    patient_id = row['Id']\n",
    "    #patient_name = f\"{row['FIRST']} {row['LAST']}\"\n",
    "    patient_name = row['patient_name'].strip()\n",
    "    G.add_node(patient_id, node_type='Patient', name=patient_name)\n",
    "    \n",
    "    # Add gender relationship\n",
    "    if row['GENDER'] == 'M':\n",
    "        G.add_edge(patient_id, 'male', relationship='HAS_GENDER')\n",
    "    elif row['GENDER'] == 'F':\n",
    "        G.add_edge(patient_id, 'female', relationship='HAS_GENDER')\n",
    "    \n",
    "    # Add marital status relationship\n",
    "    if row['MARITAL'] == 'M':\n",
    "        G.add_edge(patient_id, 'married', relationship='HAS_MARITAL_STATUS')\n",
    "    elif row['MARITAL'] == 'S':\n",
    "        G.add_edge(patient_id, 'single', relationship='HAS_MARITAL_STATUS')\n",
    "    \n",
    "print(f\"Number of nodes in the graph: {G.number_of_nodes()}\")\n",
    "\n"
   ]
  },
  {
   "cell_type": "code",
   "execution_count": 145,
   "metadata": {},
   "outputs": [
    {
     "data": {
      "text/html": [
       "<div>\n",
       "<style scoped>\n",
       "    .dataframe tbody tr th:only-of-type {\n",
       "        vertical-align: middle;\n",
       "    }\n",
       "\n",
       "    .dataframe tbody tr th {\n",
       "        vertical-align: top;\n",
       "    }\n",
       "\n",
       "    .dataframe thead th {\n",
       "        text-align: right;\n",
       "    }\n",
       "</style>\n",
       "<table border=\"1\" class=\"dataframe\">\n",
       "  <thead>\n",
       "    <tr style=\"text-align: right;\">\n",
       "      <th></th>\n",
       "      <th>START</th>\n",
       "      <th>STOP</th>\n",
       "      <th>PATIENT</th>\n",
       "      <th>ENCOUNTER</th>\n",
       "      <th>CODE</th>\n",
       "      <th>DESCRIPTION</th>\n",
       "      <th>Id</th>\n",
       "      <th>patient_name</th>\n",
       "    </tr>\n",
       "  </thead>\n",
       "  <tbody>\n",
       "    <tr>\n",
       "      <th>25865</th>\n",
       "      <td>1931-08-04</td>\n",
       "      <td>NaN</td>\n",
       "      <td>b5d02e28-4948-f7d4-d4dc-a21d692d2b07</td>\n",
       "      <td>235ca77a-8be4-9041-2380-d192685f875b</td>\n",
       "      <td>5251000175109</td>\n",
       "      <td>Received certificate of high school equivalenc...</td>\n",
       "      <td>b5d02e28-4948-f7d4-d4dc-a21d692d2b07</td>\n",
       "      <td>Kristofer887 Schmitt836</td>\n",
       "    </tr>\n",
       "    <tr>\n",
       "      <th>28534</th>\n",
       "      <td>2018-10-07</td>\n",
       "      <td>2018-12-02</td>\n",
       "      <td>8b75c459-60b7-ff60-9ef5-74f64131beda</td>\n",
       "      <td>84c9bba0-1dcf-5e97-74a4-7b04dbd334f5</td>\n",
       "      <td>73595000</td>\n",
       "      <td>Stress (finding)</td>\n",
       "      <td>8b75c459-60b7-ff60-9ef5-74f64131beda</td>\n",
       "      <td>Marilyn850 Zieme486</td>\n",
       "    </tr>\n",
       "  </tbody>\n",
       "</table>\n",
       "</div>"
      ],
      "text/plain": [
       "            START        STOP                               PATIENT  \\\n",
       "25865  1931-08-04         NaN  b5d02e28-4948-f7d4-d4dc-a21d692d2b07   \n",
       "28534  2018-10-07  2018-12-02  8b75c459-60b7-ff60-9ef5-74f64131beda   \n",
       "\n",
       "                                  ENCOUNTER           CODE  \\\n",
       "25865  235ca77a-8be4-9041-2380-d192685f875b  5251000175109   \n",
       "28534  84c9bba0-1dcf-5e97-74a4-7b04dbd334f5       73595000   \n",
       "\n",
       "                                             DESCRIPTION  \\\n",
       "25865  Received certificate of high school equivalenc...   \n",
       "28534                                   Stress (finding)   \n",
       "\n",
       "                                         Id             patient_name  \n",
       "25865  b5d02e28-4948-f7d4-d4dc-a21d692d2b07  Kristofer887 Schmitt836  \n",
       "28534  8b75c459-60b7-ff60-9ef5-74f64131beda      Marilyn850 Zieme486  "
      ]
     },
     "execution_count": 145,
     "metadata": {},
     "output_type": "execute_result"
    }
   ],
   "source": [
    "df2.sample(2) #conditions"
   ]
  },
  {
   "cell_type": "code",
   "execution_count": 146,
   "metadata": {},
   "outputs": [
    {
     "name": "stdout",
     "output_type": "stream",
     "text": [
      "Number of nodes in the graph: 28273\n"
     ]
    }
   ],
   "source": [
    "# Process each condition in the dataframe\n",
    "for _, row in df2.iterrows():\n",
    "    # Create patient node with ID and Name\n",
    "    encounter_id = row['ENCOUNTER']\n",
    "    encounter_date = row['START']\n",
    "    condition_id = row['CODE']\n",
    "    condition_name = row['DESCRIPTION']\n",
    "    patient_id = row['PATIENT']\n",
    "    patent_name = row['patient_name'].strip()\n",
    "   \n",
    "   #Encounter Node   \n",
    "    if not G.has_node(encounter_id):\n",
    "        G.add_node(encounter_id, node_type='Encounter', name=encounter_date)\n",
    "        # Add relationship between patient and encounter\n",
    "        if G.has_node(patient_id):\n",
    "            G.add_edge(patient_id, encounter_id, relationship='HAS_ENCOUNTER')\n",
    "        else:\n",
    "            print(f\"Patient {patient_id}: {patient_name} not found\")\n",
    "\n",
    "    #Condition Node if it does not exit\n",
    "    if not G.has_node(condition_id):\n",
    "        G.add_node(condition_id, node_type='Condition', name=condition_name)\n",
    "        # Add relationship between encounter and condition\n",
    "    G.add_edge(encounter_id, condition_id, relationship='HAS_CONDITION')\n",
    "\n",
    "print(f\"Number of nodes in the graph: {G.number_of_nodes()}\")"
   ]
  },
  {
   "cell_type": "code",
   "execution_count": 147,
   "metadata": {},
   "outputs": [
    {
     "data": {
      "text/html": [
       "<div>\n",
       "<style scoped>\n",
       "    .dataframe tbody tr th:only-of-type {\n",
       "        vertical-align: middle;\n",
       "    }\n",
       "\n",
       "    .dataframe tbody tr th {\n",
       "        vertical-align: top;\n",
       "    }\n",
       "\n",
       "    .dataframe thead th {\n",
       "        text-align: right;\n",
       "    }\n",
       "</style>\n",
       "<table border=\"1\" class=\"dataframe\">\n",
       "  <thead>\n",
       "    <tr style=\"text-align: right;\">\n",
       "      <th></th>\n",
       "      <th>START</th>\n",
       "      <th>STOP</th>\n",
       "      <th>PATIENT</th>\n",
       "      <th>PAYER</th>\n",
       "      <th>ENCOUNTER</th>\n",
       "      <th>CODE</th>\n",
       "      <th>DESCRIPTION</th>\n",
       "      <th>BASE_COST</th>\n",
       "      <th>PAYER_COVERAGE</th>\n",
       "      <th>DISPENSES</th>\n",
       "      <th>TOTALCOST</th>\n",
       "      <th>REASONCODE</th>\n",
       "      <th>REASONDESCRIPTION</th>\n",
       "    </tr>\n",
       "  </thead>\n",
       "  <tbody>\n",
       "    <tr>\n",
       "      <th>3692</th>\n",
       "      <td>2017-04-30T06:26:34Z</td>\n",
       "      <td>2017-10-22T06:26:34Z</td>\n",
       "      <td>9e84e569-7adc-ff42-ccdb-9fe9c23842a6</td>\n",
       "      <td>7caa7254-5050-3b5e-9eae-bd5ea30e809c</td>\n",
       "      <td>643ec862-d645-d100-5a79-2d9f5acc8ee7</td>\n",
       "      <td>855332</td>\n",
       "      <td>Warfarin Sodium 5 MG Oral Tablet</td>\n",
       "      <td>43.43</td>\n",
       "      <td>2.74</td>\n",
       "      <td>5</td>\n",
       "      <td>217.15</td>\n",
       "      <td>NaN</td>\n",
       "      <td>NaN</td>\n",
       "    </tr>\n",
       "    <tr>\n",
       "      <th>49787</th>\n",
       "      <td>2012-12-17T01:34:19Z</td>\n",
       "      <td>2013-12-23T01:34:19Z</td>\n",
       "      <td>fca626fd-ab99-57fb-ba8d-f0bad053788b</td>\n",
       "      <td>42c4fca7-f8a9-3cd1-982a-dd9751bf3e2a</td>\n",
       "      <td>ca134e4b-4958-3180-36cf-144795cddc80</td>\n",
       "      <td>314076</td>\n",
       "      <td>lisinopril 10 MG Oral Tablet</td>\n",
       "      <td>0.02</td>\n",
       "      <td>0.00</td>\n",
       "      <td>371</td>\n",
       "      <td>7.42</td>\n",
       "      <td>59621000.0</td>\n",
       "      <td>Hypertension</td>\n",
       "    </tr>\n",
       "  </tbody>\n",
       "</table>\n",
       "</div>"
      ],
      "text/plain": [
       "                      START                  STOP  \\\n",
       "3692   2017-04-30T06:26:34Z  2017-10-22T06:26:34Z   \n",
       "49787  2012-12-17T01:34:19Z  2013-12-23T01:34:19Z   \n",
       "\n",
       "                                    PATIENT  \\\n",
       "3692   9e84e569-7adc-ff42-ccdb-9fe9c23842a6   \n",
       "49787  fca626fd-ab99-57fb-ba8d-f0bad053788b   \n",
       "\n",
       "                                      PAYER  \\\n",
       "3692   7caa7254-5050-3b5e-9eae-bd5ea30e809c   \n",
       "49787  42c4fca7-f8a9-3cd1-982a-dd9751bf3e2a   \n",
       "\n",
       "                                  ENCOUNTER    CODE  \\\n",
       "3692   643ec862-d645-d100-5a79-2d9f5acc8ee7  855332   \n",
       "49787  ca134e4b-4958-3180-36cf-144795cddc80  314076   \n",
       "\n",
       "                            DESCRIPTION  BASE_COST  PAYER_COVERAGE  DISPENSES  \\\n",
       "3692   Warfarin Sodium 5 MG Oral Tablet      43.43            2.74          5   \n",
       "49787      lisinopril 10 MG Oral Tablet       0.02            0.00        371   \n",
       "\n",
       "       TOTALCOST  REASONCODE REASONDESCRIPTION  \n",
       "3692      217.15         NaN               NaN  \n",
       "49787       7.42  59621000.0      Hypertension  "
      ]
     },
     "execution_count": 147,
     "metadata": {},
     "output_type": "execute_result"
    }
   ],
   "source": [
    "df3.sample(2) #medications"
   ]
  },
  {
   "cell_type": "code",
   "execution_count": 148,
   "metadata": {},
   "outputs": [
    {
     "name": "stdout",
     "output_type": "stream",
     "text": [
      "Number of nodes in the graph: 40613\n"
     ]
    }
   ],
   "source": [
    "for _, row in df3.iterrows():\n",
    "    # Create medication node with ID and Name\n",
    "    encounter_id = row['ENCOUNTER']\n",
    "    medication_id = row['CODE']\n",
    "    medication_name = row['DESCRIPTION']\n",
    "\n",
    "    # Add medication node if it does not exist\n",
    "    if not G.has_node(medication_id):\n",
    "        G.add_node(medication_id, node_type='Medication', name=medication_name)\n",
    "        # Add relationship between encounter and medication\n",
    "    G.add_edge(encounter_id, medication_id, relationship='HAS_MEDICATION')\n",
    "\n",
    "print(f\"Number of nodes in the graph: {G.number_of_nodes()}\")\n",
    "    \n"
   ]
  },
  {
   "cell_type": "code",
   "execution_count": 149,
   "metadata": {},
   "outputs": [
    {
     "name": "stdout",
     "output_type": "stream",
     "text": [
      "Number of sampled patients: 1\n",
      "Number of nodes in the subgraph: 17\n"
     ]
    },
    {
     "data": {
      "text/plain": [
       "{('female',\n",
       "  'c1f1fcaa-82fd-d5b7-3544-c8f9708b06a8'): Text(-0.1040311080252816, 0.581433364397437, 'HAS_GENDER'),\n",
       " (198405,\n",
       "  'a6d818dd-0983-fd1c-eefa-3d2295532c45'): Text(0.42386935339835996, 0.04540548876521777, 'HAS_MEDICATION'),\n",
       " (849574,\n",
       "  'a6da4c61-bc91-17a7-14a2-fda9023536a3'): Text(0.49556594683381205, 0.1977546161201238, 'HAS_MEDICATION'),\n",
       " ('c8eaaf41-958b-31ab-7de5-568cee8751f3',\n",
       "  'c1f1fcaa-82fd-d5b7-3544-c8f9708b06a8'): Text(0.2709952452376527, 0.027069869663627344, 'HAS_ENCOUNTER'),\n",
       " ('c8eaaf41-958b-31ab-7de5-568cee8751f3',\n",
       "  444814009): Text(-0.021255295719070588, -0.4077633670835069, 'HAS_CONDITION'),\n",
       " (1043400,\n",
       "  '0b2794bd-ec2b-d34f-0610-2523b3b7fcf0'): Text(-0.49130577264144526, 0.1677052889806303, 'HAS_MEDICATION'),\n",
       " ('36d2e781-4655-0a11-1f70-c69856e02019',\n",
       "  'c1f1fcaa-82fd-d5b7-3544-c8f9708b06a8'): Text(-0.1376523130696754, 0.1930605662747089, 'HAS_ENCOUNTER'),\n",
       " ('36d2e781-4655-0a11-1f70-c69856e02019',\n",
       "  444814009): Text(-0.4298991040677901, -0.24177433410336513, 'HAS_CONDITION'),\n",
       " (10509002,\n",
       "  '0b2794bd-ec2b-d34f-0610-2523b3b7fcf0'): Text(-0.5251059170101634, 0.07506099226916141, 'HAS_CONDITION'),\n",
       " (44465007,\n",
       "  'a6da4c61-bc91-17a7-14a2-fda9023536a3'): Text(0.021156631755945288, 0.08927259047652858, 'HAS_CONDITION'),\n",
       " (16114001,\n",
       "  '6474f606-5a1b-48c0-bbbf-ad6dcbc24d4e'): Text(-0.02648271228136201, -0.27392510558042804, 'HAS_CONDITION'),\n",
       " ('a6da4c61-bc91-17a7-14a2-fda9023536a3',\n",
       "  'c1f1fcaa-82fd-d5b7-3544-c8f9708b06a8'): Text(0.1632280060216329, 0.3423975108205817, 'HAS_ENCOUNTER'),\n",
       " ('0b2794bd-ec2b-d34f-0610-2523b3b7fcf0',\n",
       "  'c1f1fcaa-82fd-d5b7-3544-c8f9708b06a8'): Text(0.028650675351274302, 0.47429313639824855, 'HAS_ENCOUNTER'),\n",
       " ('c1f1fcaa-82fd-d5b7-3544-c8f9708b06a8',\n",
       "  'a6d818dd-0983-fd1c-eefa-3d2295532c45'): Text(0.28997590726271194, -0.22768351313330948, 'HAS_ENCOUNTER'),\n",
       " ('c1f1fcaa-82fd-d5b7-3544-c8f9708b06a8',\n",
       "  '6474f606-5a1b-48c0-bbbf-ad6dcbc24d4e'): Text(0.3373566731861455, -0.06420799787662812, 'HAS_ENCOUNTER'),\n",
       " ('6474f606-5a1b-48c0-bbbf-ad6dcbc24d4e',\n",
       "  313820): Text(0.622682075466924, 0.08964673989205796, 'HAS_MEDICATION'),\n",
       " (283371005,\n",
       "  'a6d818dd-0983-fd1c-eefa-3d2295532c45'): Text(0.23332093343434557, -0.4771352113018483, 'HAS_CONDITION')}"
      ]
     },
     "execution_count": 149,
     "metadata": {},
     "output_type": "execute_result"
    },
    {
     "data": {
      "image/png": "[encoded data removed]",
      "text/plain": [
       "<Figure size 1500x900 with 1 Axes>"
      ]
     },
     "metadata": {},
     "output_type": "display_data"
    }
   ],
   "source": [
    "import random\n",
    "\n",
    "# creating sub graph for limited number of patients to visualize\n",
    "max_nodes = 1  \n",
    "# Get all patient nodes\n",
    "nodes_to_keep = []\n",
    "patient_nodes = [n for n, attr in G.nodes(data=True) if attr.get('node_type') == 'Patient']\n",
    "\n",
    "# Sample a subset of patient nodes\n",
    "# if len(patient_nodes) > max_nodes:\n",
    "#     sampled_patients = random.sample(patient_nodes, min(max_nodes, len(patient_nodes)))\n",
    "sampled_patients = patient_nodes[1:2]   \n",
    "\n",
    "print (f\"Number of sampled patients: {len(sampled_patients)}\")\n",
    "\n",
    "# Create a set of nodes to keep for the graph\n",
    "nodes_to_keep = set(sampled_patients)\n",
    "for patient in sampled_patients:\n",
    "    for neighbor in G.neighbors(patient):\n",
    "        nodes_to_keep.add(neighbor)\n",
    "        if neighbor not in ['male', 'female', 'married', 'single']:\n",
    "            for neighbor2 in G.neighbors(neighbor):\n",
    "                nodes_to_keep.add(neighbor2)\n",
    "    \n",
    "print (f\"Number of nodes in the subgraph: {len(nodes_to_keep)}\")\n",
    "\n",
    "G_sub = G.subgraph(nodes_to_keep)\n",
    "\n",
    "#print (nodes_to_keep)\n",
    "\n",
    "# 3. Visualize the sub Graph \n",
    "# Reference: https://networkx.org/nx-guides/content/exploratory_notebooks/facebook_notebook.html#visualizing-the-graph\n",
    "\n",
    "plot_options = {\"node_size\": 10, \"with_labels\": False, \"width\": 0.15, \"with_labels\": True}\n",
    "pos = nx.spring_layout(G_sub, iterations=1, seed=1721)\n",
    "fig, ax = plt.subplots(figsize=(15, 9))\n",
    "edge_labels = nx.get_edge_attributes(G_sub, 'relationship')\n",
    "nx.draw_networkx(G_sub, pos=pos, ax=ax,  **plot_options)\n",
    "nx.draw_networkx_edge_labels(G_sub, pos, edge_labels=edge_labels)\n"
   ]
  },
  {
   "cell_type": "code",
   "execution_count": 150,
   "metadata": {},
   "outputs": [
    {
     "data": {
      "application/vnd.jupyter.widget-view+json": {
       "model_id": "00b7690fc88c4ffa8faba0aa2e2a87fc",
       "version_major": 2,
       "version_minor": 0
      },
      "text/plain": [
       "Output()"
      ]
     },
     "metadata": {},
     "output_type": "display_data"
    },
    {
     "name": "stdout",
     "output_type": "stream",
     "text": [
      "['_system', 'health', 'health1']\n"
     ]
    },
    {
     "data": {
      "text/html": [
       "<pre style=\"white-space:pre;overflow-x:auto;line-height:normal;font-family:Menlo,'DejaVu Sans Mono',consolas,'Courier New',monospace\"></pre>\n"
      ],
      "text/plain": []
     },
     "metadata": {},
     "output_type": "display_data"
    },
    {
     "name": "stdout",
     "output_type": "stream",
     "text": [
      "['IMDB_X', 'IMDB_PLATFORM', 'AMAZON_COMPUTER_PRODUCTS', 'AMAZON_PRODUCT_WITH_EMBEDDINGS', 'FAKE_HOMO_MULTICLASS', 'FAKE_HOMO_BINARY', 'FAKE_HETRO_LARGE_MULTICLASS', 'MAG', 'OPEN_INTELLIGENCE', 'OPEN_INTELLIGENCE_ANGOLA', 'FLIGHTS', 'CORA', 'DBLP', 'CVE', 'MTCARS', 'P2PSB', 'SCHAIN', 'ITSM_SAGE', 'ABIDE', 'CYBER', 'GAME_OF_THRONES', 'MARKET', 'SYNTHEA_P1000', 'SYNTHEA_P100']\n"
     ]
    }
   ],
   "source": [
    "from arango import ArangoClient\n",
    "from arango_datasets import Datasets\n",
    "#Initialize ArangoDB client\n",
    "\n",
    "client = ArangoClient(hosts=\"https://5d4260a933d2.arangodb.cloud:8529\")  # Use correct format\n",
    "#Connect to the \"_system\" database (or use your specific database)\n",
    "\n",
    "sys_db = client.db(\"_system\", username=\"root\", password=\"YN6acOVHniTpacWL6xVB\")  # No \"verify\" argument\n",
    "\n",
    "\n",
    "#sys_db.create_database(\"health1\")\n",
    "\n",
    "print(sys_db.databases())\n",
    "health1 = client.db(\"health1\", username=\"root\", password=\"YN6acOVHniTpacWL6xVB\")\n",
    "#Connect to datasets\n",
    "\n",
    "datasets = Datasets(health1)\n",
    "#List available datasets\n",
    "\n",
    "print(datasets.list_datasets())\n",
    "#Get information about a specific dataset\n"
   ]
  },
  {
   "cell_type": "code",
   "execution_count": 151,
   "metadata": {},
   "outputs": [],
   "source": [
    "if \"health_graph\" in health1.graphs():\n",
    "    print(\"Graph already exists. Deleting it.\")\n",
    "    health1.delete_graph(\"health_graph\", ignore_missing=True, drop_collections=True)"
   ]
  },
  {
   "cell_type": "code",
   "execution_count": 152,
   "metadata": {},
   "outputs": [
    {
     "name": "stderr",
     "output_type": "stream",
     "text": [
      "[16:34:26 -0800] [INFO]: Overwriting graph 'health_graph'\n",
      "[16:34:26 -0800] [INFO]: Graph 'health_graph' exists.\n",
      "[16:34:26 -0800] [INFO]: Default node type set to 'health_graph_node'\n",
      "[2025/03/07 16:34:27 -0800] [97379] [INFO] - adbnx_adapter: Instantiated ADBNX_Adapter with database 'health1'\n"
     ]
    },
    {
     "data": {
      "application/vnd.jupyter.widget-view+json": {
       "model_id": "cd3ac6a8bb0c4522a1538f29d761a6b9",
       "version_major": 2,
       "version_minor": 0
      },
      "text/plain": [
       "Output()"
      ]
     },
     "metadata": {},
     "output_type": "display_data"
    },
    {
     "data": {
      "text/html": [
       "<pre style=\"white-space:pre;overflow-x:auto;line-height:normal;font-family:Menlo,'DejaVu Sans Mono',consolas,'Courier New',monospace\"></pre>\n"
      ],
      "text/plain": []
     },
     "metadata": {},
     "output_type": "display_data"
    },
    {
     "data": {
      "application/vnd.jupyter.widget-view+json": {
       "model_id": "726c75f175c045dfb158072e05ff503f",
       "version_major": 2,
       "version_minor": 0
      },
      "text/plain": [
       "Output()"
      ]
     },
     "metadata": {},
     "output_type": "display_data"
    },
    {
     "data": {
      "text/html": [
       "<pre style=\"white-space:pre;overflow-x:auto;line-height:normal;font-family:Menlo,'DejaVu Sans Mono',consolas,'Courier New',monospace\"></pre>\n"
      ],
      "text/plain": []
     },
     "metadata": {},
     "output_type": "display_data"
    },
    {
     "name": "stderr",
     "output_type": "stream",
     "text": [
      "[2025/03/07 16:34:40 -0800] [97379] [INFO] - adbnx_adapter: Created ArangoDB 'health_graph' Graph\n"
     ]
    },
    {
     "name": "stdout",
     "output_type": "stream",
     "text": [
      "Graph named 'health_graph' with 40613 nodes and 0 edges\n"
     ]
    }
   ],
   "source": [
    "G_adb = nxadb.Graph(\n",
    "    name=\"health_graph\",\n",
    "    db=health1,\n",
    "    incoming_graph_data=G,\n",
    "    overwrite_graph=True,\n",
    "    write_batch_size=50000 # feel free to modify\n",
    ")\n",
    "\n",
    "print(G_adb)"
   ]
  },
  {
   "cell_type": "code",
   "execution_count": 153,
   "metadata": {},
   "outputs": [
    {
     "data": {
      "text/plain": [
       "0"
      ]
     },
     "execution_count": 153,
     "metadata": {},
     "output_type": "execute_result"
    }
   ],
   "source": [
    "G_adb.degree(1)"
   ]
  },
  {
   "cell_type": "code",
   "execution_count": 154,
   "metadata": {},
   "outputs": [],
   "source": [
    "arango_graph = ArangoGraph(health1)"
   ]
  },
  {
   "cell_type": "code",
   "execution_count": 155,
   "metadata": {},
   "outputs": [
    {
     "data": {
      "text/plain": [
       "AIMessage(content=\"Sure, here's one for you:\\n\\nWhy don't skeletons fight each other?\\n\\nThey don't have the guts!\", additional_kwargs={'refusal': None}, response_metadata={'token_usage': {'completion_tokens': 22, 'prompt_tokens': 12, 'total_tokens': 34, 'completion_tokens_details': {'accepted_prediction_tokens': 0, 'audio_tokens': 0, 'reasoning_tokens': 0, 'rejected_prediction_tokens': 0}, 'prompt_tokens_details': {'audio_tokens': 0, 'cached_tokens': 0}}, 'model_name': 'gpt-4o-2024-08-06', 'system_fingerprint': 'fp_f9f4fb6dbf', 'finish_reason': 'stop', 'logprobs': None}, id='run-616e500c-614f-4afe-a331-b98414975327-0', usage_metadata={'input_tokens': 12, 'output_tokens': 22, 'total_tokens': 34, 'input_token_details': {'audio': 0, 'cache_read': 0}, 'output_token_details': {'audio': 0, 'reasoning': 0}})"
      ]
     },
     "execution_count": 155,
     "metadata": {},
     "output_type": "execute_result"
    }
   ],
   "source": [
    "llm = ChatOpenAI(temperature=0, model_name=\"gpt-4o\")\n",
    "\n",
    "llm.invoke(\"hello tell me joke!\")"
   ]
  },
  {
   "cell_type": "code",
   "execution_count": 156,
   "metadata": {},
   "outputs": [],
   "source": [
    "# 4. Define the Text to AQL Tool\n",
    "# Reference: https://python.langchain.com/docs/integrations/graphs/arangodb/\n",
    "# Reference: https://python.langchain.com/api_reference/community/chains/langchain_community.chains.graph_qa.arangodb.ArangoGraphQAChain.html\n",
    "# Note: It is encouraged to experiment and improve this section! This is just a placeholder:\n",
    "\n",
    "@tool\n",
    "def text_to_aql_to_text(query: str):\n",
    "    \"\"\"This tool is available to invoke the\n",
    "    ArangoGraphQAChain object, which enables you to\n",
    "    translate a Natural Language Query into AQL, execute\n",
    "    the query, and translate the result back into Natural Language.\n",
    "    \"\"\"\n",
    "\n",
    "    llm = ChatOpenAI(temperature=0, model_name=\"gpt-4o\")\n",
    "\n",
    "    chain = ArangoGraphQAChain.from_llm(\n",
    "    \tllm=llm,\n",
    "    \tgraph=arango_graph,\n",
    "    \tverbose=True,\n",
    "        allow_dangerous_requests=True\n",
    "    )\n",
    "    \n",
    "    result = chain.invoke(query)\n",
    "\n",
    "    return str(result[\"result\"])\n",
    "\n",
    "#text_to_aql_to_text(\"What is the name of the person who has the most friends?\")\n",
    "\n",
    "# 5. Define the Text to NetworkX/cuGraph Tool\n",
    "# Note: It is encouraged to experiment and improve this section! This is just a placeholder:\n",
    "\n",
    "@tool\n",
    "def text_to_nx_algorithm_to_text(query):\n",
    "    \"\"\"This tool is available to invoke a NetworkX Algorithm on\n",
    "    the ArangoDB Graph. You are responsible for accepting the\n",
    "    Natural Language Query, establishing which algorithm needs to\n",
    "    be executed, executing the algorithm, and translating the results back\n",
    "    to Natural Language, with respect to the original query.\n",
    "\n",
    "    If the query (e.g traversals, shortest path, etc.) can be solved using the Arango Query Language, then do not use\n",
    "    this tool.\n",
    "    \"\"\"\n",
    "\n",
    "    llm = ChatOpenAI(temperature=0, model_name=\"gpt-4o\")\n",
    "\n",
    "    ######################\n",
    "    print(\"1) Generating NetworkX code\")\n",
    "\n",
    "    text_to_nx = llm.invoke(f\"\"\"\n",
    "    I have a NetworkX Graph called `G_adb`. It has the following schema: {arango_graph.schema}\n",
    "\n",
    "    I have the following graph analysis query: {query}.\n",
    "\n",
    "    Generate the Python Code required to answer the query using the `G_adb` object.\n",
    "\n",
    "    Be very precise on the NetworkX algorithm you select to answer this query. Think step by step.\n",
    "\n",
    "    Only assume that networkx is installed, and other base python dependencies.\n",
    "\n",
    "    Always set the last variable as `FINAL_RESULT`, which represents the answer to the original query.\n",
    "\n",
    "    Only provide python code that I can directly execute via `exec()`. Do not provide any instructions.\n",
    "\n",
    "    Make sure that `FINAL_RESULT` stores a short & consice answer. Avoid setting this variable to a long sequence.\n",
    "\n",
    "    Your code:\n",
    "    \"\"\").content\n",
    "\n",
    "    text_to_nx_cleaned = re.sub(r\"^```python\\n|```$\", \"\", text_to_nx, flags=re.MULTILINE).strip()\n",
    "    \n",
    "    print('-'*10)\n",
    "    print(text_to_nx_cleaned)\n",
    "    print('-'*10)\n",
    "\n",
    "    ######################\n",
    "\n",
    "    print(\"\\n2) Executing NetworkX code\")\n",
    "    global_vars = {\"G_adb\": G_adb, \"nx\": nx}\n",
    "    local_vars = {}\n",
    "\n",
    "    try:\n",
    "        exec(text_to_nx_cleaned, global_vars, local_vars)\n",
    "        text_to_nx_final = text_to_nx\n",
    "    except Exception as e:\n",
    "        print(f\"EXEC ERROR: {e}\")\n",
    "        return f\"EXEC ERROR: {e}\"\n",
    "\n",
    "        # TODO: Consider experimenting with a code corrector!\n",
    "        attempt = 1\n",
    "        MAX_ATTEMPTS = 3\n",
    "\n",
    "        # while attempt <= MAX_ATTEMPTS\n",
    "            # ...\n",
    "\n",
    "    print('-'*10)\n",
    "    FINAL_RESULT = local_vars[\"FINAL_RESULT\"]\n",
    "    print(f\"FINAL_RESULT: {FINAL_RESULT}\")\n",
    "    print('-'*10)\n",
    "\n",
    "    ######################\n",
    "\n",
    "    print(\"3) Formulating final answer\")\n",
    "\n",
    "    nx_to_text = llm.invoke(f\"\"\"\n",
    "        I have a NetworkX Graph called `G_adb`. It has the following schema: {arango_graph.schema}\n",
    "\n",
    "        I have the following graph analysis query: {query}.\n",
    "\n",
    "        I have executed the following python code to help me answer my query:\n",
    "\n",
    "        ---\n",
    "        {text_to_nx_final}\n",
    "        ---\n",
    "\n",
    "        The `FINAL_RESULT` variable is set to the following: {FINAL_RESULT}.\n",
    "\n",
    "        Based on my original Query and FINAL_RESULT, generate a short and concise response to\n",
    "        answer my query.\n",
    "        \n",
    "        Your response:\n",
    "    \"\"\").content\n",
    "\n",
    "    return nx_to_text\n",
    "\n",
    "\n",
    "tools = [text_to_aql_to_text, text_to_nx_algorithm_to_text, favourite_fruit]\n",
    "\n",
    "# 6. Create the Agentic Application\n",
    "\n",
    "# Note: Consider implementing a hybrid tool that combines both AQL & NetworkX Algorithms!\n",
    "\n",
    "tools = [text_to_aql_to_text, text_to_nx_algorithm_to_text, favourite_fruit]\n",
    "\n",
    "def query_graph(query):\n",
    "    llm = ChatOpenAI(temperature=0, model_name=\"gpt-4o\")\n",
    "    app = create_react_agent(llm, tools)    \n",
    "    final_state = app.invoke({\"messages\": [{\"role\": \"user\", \"content\": query}]})\n",
    "    return final_state[\"messages\"][-1].content"
   ]
  },
  {
   "cell_type": "code",
   "execution_count": 157,
   "metadata": {},
   "outputs": [
    {
     "name": "stdout",
     "output_type": "stream",
     "text": [
      "\n",
      "\n",
      "\u001b[1m> Entering new ArangoGraphQAChain chain...\u001b[0m\n",
      "AQL Query (1):\u001b[32;1m\u001b[1;3m\n",
      "WITH health_graph_node\n",
      "FOR node IN health_graph_node\n",
      "  FILTER node.node_type == \"Gender\" AND node.name == \"Male\"\n",
      "  COLLECT WITH COUNT INTO length\n",
      "RETURN length\n",
      "\u001b[0m\n",
      "AQL Result:\n",
      "\u001b[32;1m\u001b[1;3m[1]\u001b[0m\n",
      "\n",
      "\u001b[1m> Finished chain.\u001b[0m\n"
     ]
    },
    {
     "data": {
      "text/plain": [
       "'There is one male patient in the database.'"
      ]
     },
     "execution_count": 157,
     "metadata": {},
     "output_type": "execute_result"
    }
   ],
   "source": [
    "query_graph(\"How many are  patients are male? \")"
   ]
  },
  {
   "cell_type": "code",
   "execution_count": 158,
   "metadata": {},
   "outputs": [
    {
     "name": "stdout",
     "output_type": "stream",
     "text": [
      "\n",
      "\n",
      "\u001b[1m> Entering new ArangoGraphQAChain chain...\u001b[0m\n",
      "AQL Query (1):\u001b[32;1m\u001b[1;3m\n",
      "WITH health_graph_node\n",
      "FOR v IN health_graph_node\n",
      "    FILTER v.node_type == 'Condition' AND v.name == 'Prediabetes'\n",
      "    FOR e IN health_graph_node_to_health_graph_node\n",
      "        FILTER e._to == v._id\n",
      "        FOR p IN health_graph_node\n",
      "            FILTER e._from == p._id AND p.node_type == 'Patient'\n",
      "            COLLECT WITH COUNT INTO numberOfPatients\n",
      "RETURN numberOfPatients\n",
      "\u001b[0m\n",
      "AQL Result:\n",
      "\u001b[32;1m\u001b[1;3m[0]\u001b[0m\n",
      "\n",
      "\u001b[1m> Finished chain.\u001b[0m\n"
     ]
    },
    {
     "data": {
      "text/plain": [
       "\"There are no patients in the database who have had an encounter with the condition 'Prediabetes'.\""
      ]
     },
     "execution_count": 158,
     "metadata": {},
     "output_type": "execute_result"
    }
   ],
   "source": [
    "query_graph(\"How many patients have encounter with condition 'Prediabetes'?\")"
   ]
  },
  {
   "cell_type": "code",
   "execution_count": 159,
   "metadata": {},
   "outputs": [
    {
     "name": "stdout",
     "output_type": "stream",
     "text": [
      "\n",
      "\n",
      "\u001b[1m> Entering new ArangoGraphQAChain chain...\u001b[0m\n",
      "AQL Query (1):\u001b[32;1m\u001b[1;3m\n",
      "WITH health_graph_node\n",
      "FOR node IN health_graph_node\n",
      "  FILTER node.node_type == 'Medication' AND STARTS_WITH(node.name, 'Amoxicillin')\n",
      "  COLLECT WITH COUNT INTO count\n",
      "RETURN count\n",
      "\u001b[0m\n",
      "AQL Result:\n",
      "\u001b[32;1m\u001b[1;3m[3]\u001b[0m\n",
      "\n",
      "\u001b[1m> Finished chain.\u001b[0m\n"
     ]
    },
    {
     "data": {
      "text/plain": [
       "\"There are 3 patients who have had encounters with medications starting with 'Amoxicillin'.\""
      ]
     },
     "execution_count": 159,
     "metadata": {},
     "output_type": "execute_result"
    }
   ],
   "source": [
    "query_graph(\"how many patients have encounter with  medications strating with 'Amoxicillin'?\")"
   ]
  },
  {
   "cell_type": "code",
   "execution_count": 160,
   "metadata": {},
   "outputs": [
    {
     "name": "stdout",
     "output_type": "stream",
     "text": [
      "\n",
      "\n",
      "\u001b[1m> Entering new ArangoGraphQAChain chain...\u001b[0m\n",
      "AQL Query (1):\u001b[32;1m\u001b[1;3m\n",
      "WITH health_graph_node\n",
      "FOR patient IN health_graph_node\n",
      "    FILTER patient.node_type == 'Patient'\n",
      "    LET conditions = (\n",
      "        FOR v, e, p IN 1..1 OUTBOUND patient health_graph_node_to_health_graph_node\n",
      "            FILTER v.node_type == 'Condition' AND v.name == 'Body mass index 30+ - obesity (finding)'\n",
      "            RETURN v\n",
      "    )\n",
      "    LET medications = (\n",
      "        FOR v, e, p IN 1..1 OUTBOUND patient health_graph_node_to_health_graph_node\n",
      "            FILTER v.node_type == 'Medication'\n",
      "            RETURN v\n",
      "    )\n",
      "    FILTER LENGTH(conditions) > 0\n",
      "    RETURN {\n",
      "        patient: patient,\n",
      "        conditions: conditions,\n",
      "        medications: medications\n",
      "    }\n",
      "\u001b[0m\n",
      "AQL Result:\n",
      "\u001b[32;1m\u001b[1;3m[]\u001b[0m\n",
      "\n",
      "\u001b[1m> Finished chain.\u001b[0m\n"
     ]
    },
    {
     "data": {
      "text/plain": [
       "\"Currently, there are no patients identified in the database with a high risk of 'Body mass index 30+ - obesity (finding)' based on their medical conditions and medications.\""
      ]
     },
     "execution_count": 160,
     "metadata": {},
     "output_type": "execute_result"
    }
   ],
   "source": [
    "query_graph(\"Which patients have a high risk of 'Body mass index 30+ - obesity (finding)' diseases based on their conditions and medications?\")"
   ]
  },
  {
   "cell_type": "code",
   "execution_count": null,
   "metadata": {},
   "outputs": [],
   "source": []
  }
 ],
 "metadata": {
  "accelerator": "GPU",
  "colab": {
   "collapsed_sections": [
    "L4nmLCFf3HoC",
    "hoyxgmOz3CwF",
    "vrB4FpB63yEF",
    "5fsZEyyh3F87",
    "VE6lCtDb6KGw"
   ],
   "gpuType": "T4",
   "provenance": []
  },
  "kernelspec": {
   "display_name": "Python 3 (ipykernel)",
   "language": "python",
   "name": "python3"
  },
  "language_info": {
   "codemirror_mode": {
    "name": "ipython",
    "version": 3
   },
   "file_extension": ".py",
   "mimetype": "text/x-python",
   "name": "python",
   "nbconvert_exporter": "python",
   "pygments_lexer": "ipython3",
   "version": "3.11.9"
  }
 },
 "nbformat": 4,
 "nbformat_minor": 4
}
